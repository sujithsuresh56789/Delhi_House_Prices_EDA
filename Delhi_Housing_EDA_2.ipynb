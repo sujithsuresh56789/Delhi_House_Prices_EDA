{
 "cells": [
  {
   "cell_type": "code",
   "execution_count": 1,
   "id": "2b6df71e",
   "metadata": {},
   "outputs": [],
   "source": [
    "import pandas as pd\n",
    "import numpy as np\n",
    "import seaborn as sns\n",
    "import matplotlib.pyplot as plt"
   ]
  },
  {
   "cell_type": "code",
   "execution_count": 3,
   "id": "0ec2bcf7",
   "metadata": {},
   "outputs": [],
   "source": [
    "housing=pd.read_csv(\"C:/Users/Predator/Desktop/Jupyter_Notebook/Week 11/Untitled Folder/Delhi_v2.csv\")"
   ]
  },
  {
   "cell_type": "code",
   "execution_count": 5,
   "id": "7ae3b887",
   "metadata": {},
   "outputs": [
    {
     "data": {
      "text/html": [
       "<div>\n",
       "<style scoped>\n",
       "    .dataframe tbody tr th:only-of-type {\n",
       "        vertical-align: middle;\n",
       "    }\n",
       "\n",
       "    .dataframe tbody tr th {\n",
       "        vertical-align: top;\n",
       "    }\n",
       "\n",
       "    .dataframe thead th {\n",
       "        text-align: right;\n",
       "    }\n",
       "</style>\n",
       "<table border=\"1\" class=\"dataframe\">\n",
       "  <thead>\n",
       "    <tr style=\"text-align: right;\">\n",
       "      <th></th>\n",
       "      <th>Unnamed: 0</th>\n",
       "      <th>price</th>\n",
       "      <th>Address</th>\n",
       "      <th>area</th>\n",
       "      <th>latitude</th>\n",
       "      <th>longitude</th>\n",
       "      <th>Bedrooms</th>\n",
       "      <th>Bathrooms</th>\n",
       "      <th>Balcony</th>\n",
       "      <th>Status</th>\n",
       "      <th>neworold</th>\n",
       "      <th>parking</th>\n",
       "      <th>Furnished_status</th>\n",
       "      <th>Lift</th>\n",
       "      <th>Landmarks</th>\n",
       "      <th>type_of_building</th>\n",
       "      <th>desc</th>\n",
       "      <th>Price_sqft</th>\n",
       "    </tr>\n",
       "  </thead>\n",
       "  <tbody>\n",
       "    <tr>\n",
       "      <th>0</th>\n",
       "      <td>0</td>\n",
       "      <td>5600000.0</td>\n",
       "      <td>Noida Extension, Noida, Delhi NCR</td>\n",
       "      <td>1350.0</td>\n",
       "      <td>28.608850</td>\n",
       "      <td>77.460560</td>\n",
       "      <td>3.0</td>\n",
       "      <td>3.0</td>\n",
       "      <td>NaN</td>\n",
       "      <td>Under Construction</td>\n",
       "      <td>New Property</td>\n",
       "      <td>NaN</td>\n",
       "      <td>NaN</td>\n",
       "      <td>2.0</td>\n",
       "      <td>NaN</td>\n",
       "      <td>Flat</td>\n",
       "      <td>\\n\\n\\n                                Welcome ...</td>\n",
       "      <td>4148.148148</td>\n",
       "    </tr>\n",
       "    <tr>\n",
       "      <th>1</th>\n",
       "      <td>1</td>\n",
       "      <td>8800000.0</td>\n",
       "      <td>Sector 79, Gurgaon, Delhi NCR</td>\n",
       "      <td>1490.0</td>\n",
       "      <td>28.374236</td>\n",
       "      <td>76.952416</td>\n",
       "      <td>3.0</td>\n",
       "      <td>3.0</td>\n",
       "      <td>NaN</td>\n",
       "      <td>Ready to Move</td>\n",
       "      <td>New Property</td>\n",
       "      <td>NaN</td>\n",
       "      <td>Semi-Furnished</td>\n",
       "      <td>2.0</td>\n",
       "      <td>NaN</td>\n",
       "      <td>Flat</td>\n",
       "      <td>\\n\\n\\n                                Mapsko M...</td>\n",
       "      <td>5906.040268</td>\n",
       "    </tr>\n",
       "    <tr>\n",
       "      <th>2</th>\n",
       "      <td>2</td>\n",
       "      <td>16500000.0</td>\n",
       "      <td>Vaishali, Ghaziabad, Delhi NCR</td>\n",
       "      <td>2385.0</td>\n",
       "      <td>28.645769</td>\n",
       "      <td>77.385110</td>\n",
       "      <td>4.0</td>\n",
       "      <td>5.0</td>\n",
       "      <td>NaN</td>\n",
       "      <td>Ready to Move</td>\n",
       "      <td>New Property</td>\n",
       "      <td>1.0</td>\n",
       "      <td>Unfurnished</td>\n",
       "      <td>NaN</td>\n",
       "      <td>NaN</td>\n",
       "      <td>Flat</td>\n",
       "      <td>\\n\\n\\n                                This pro...</td>\n",
       "      <td>6918.238994</td>\n",
       "    </tr>\n",
       "    <tr>\n",
       "      <th>3</th>\n",
       "      <td>3</td>\n",
       "      <td>3810000.0</td>\n",
       "      <td>Link Road, F Block, Sector 50, Noida, Uttar Pr...</td>\n",
       "      <td>1050.0</td>\n",
       "      <td>28.566914</td>\n",
       "      <td>77.436434</td>\n",
       "      <td>2.0</td>\n",
       "      <td>2.0</td>\n",
       "      <td>3.0</td>\n",
       "      <td>NaN</td>\n",
       "      <td>New Property</td>\n",
       "      <td>1.0</td>\n",
       "      <td>Unfurnished</td>\n",
       "      <td>2.0</td>\n",
       "      <td>near Gaur Mulberry Mansion</td>\n",
       "      <td>Flat</td>\n",
       "      <td>\\n\\n\\n                                AIG Roya...</td>\n",
       "      <td>3628.571429</td>\n",
       "    </tr>\n",
       "    <tr>\n",
       "      <th>4</th>\n",
       "      <td>4</td>\n",
       "      <td>6200000.0</td>\n",
       "      <td>Jaypee Pavilion Court Sector 128, Noida, Secto...</td>\n",
       "      <td>1350.0</td>\n",
       "      <td>28.520732</td>\n",
       "      <td>77.356491</td>\n",
       "      <td>2.0</td>\n",
       "      <td>2.0</td>\n",
       "      <td>3.0</td>\n",
       "      <td>Ready to Move</td>\n",
       "      <td>Resale</td>\n",
       "      <td>1.0</td>\n",
       "      <td>NaN</td>\n",
       "      <td>3.0</td>\n",
       "      <td>NaN</td>\n",
       "      <td>Flat</td>\n",
       "      <td>\\n\\n\\n                                The prop...</td>\n",
       "      <td>4592.592593</td>\n",
       "    </tr>\n",
       "  </tbody>\n",
       "</table>\n",
       "</div>"
      ],
      "text/plain": [
       "   Unnamed: 0       price                                            Address  \\\n",
       "0           0   5600000.0                  Noida Extension, Noida, Delhi NCR   \n",
       "1           1   8800000.0                      Sector 79, Gurgaon, Delhi NCR   \n",
       "2           2  16500000.0                     Vaishali, Ghaziabad, Delhi NCR   \n",
       "3           3   3810000.0  Link Road, F Block, Sector 50, Noida, Uttar Pr...   \n",
       "4           4   6200000.0  Jaypee Pavilion Court Sector 128, Noida, Secto...   \n",
       "\n",
       "     area   latitude  longitude  Bedrooms  Bathrooms  Balcony  \\\n",
       "0  1350.0  28.608850  77.460560       3.0        3.0      NaN   \n",
       "1  1490.0  28.374236  76.952416       3.0        3.0      NaN   \n",
       "2  2385.0  28.645769  77.385110       4.0        5.0      NaN   \n",
       "3  1050.0  28.566914  77.436434       2.0        2.0      3.0   \n",
       "4  1350.0  28.520732  77.356491       2.0        2.0      3.0   \n",
       "\n",
       "               Status      neworold  parking Furnished_status  Lift  \\\n",
       "0  Under Construction  New Property      NaN              NaN   2.0   \n",
       "1       Ready to Move  New Property      NaN   Semi-Furnished   2.0   \n",
       "2       Ready to Move  New Property      1.0      Unfurnished   NaN   \n",
       "3                 NaN  New Property      1.0      Unfurnished   2.0   \n",
       "4       Ready to Move        Resale      1.0              NaN   3.0   \n",
       "\n",
       "                    Landmarks type_of_building  \\\n",
       "0                         NaN             Flat   \n",
       "1                         NaN             Flat   \n",
       "2                         NaN             Flat   \n",
       "3  near Gaur Mulberry Mansion             Flat   \n",
       "4                         NaN             Flat   \n",
       "\n",
       "                                                desc   Price_sqft  \n",
       "0  \\n\\n\\n                                Welcome ...  4148.148148  \n",
       "1  \\n\\n\\n                                Mapsko M...  5906.040268  \n",
       "2  \\n\\n\\n                                This pro...  6918.238994  \n",
       "3  \\n\\n\\n                                AIG Roya...  3628.571429  \n",
       "4  \\n\\n\\n                                The prop...  4592.592593  "
      ]
     },
     "execution_count": 5,
     "metadata": {},
     "output_type": "execute_result"
    }
   ],
   "source": [
    "housing.head()"
   ]
  },
  {
   "cell_type": "markdown",
   "id": "b61bcc4e",
   "metadata": {},
   "source": [
    "## Cleaning Data"
   ]
  },
  {
   "cell_type": "markdown",
   "id": "28ea355d",
   "metadata": {},
   "source": [
    "### Dropping unwanted columns"
   ]
  },
  {
   "cell_type": "code",
   "execution_count": 7,
   "id": "3e4c20ec",
   "metadata": {},
   "outputs": [
    {
     "data": {
      "text/plain": [
       "Unnamed: 0             0\n",
       "price                  0\n",
       "Address                0\n",
       "area                   0\n",
       "latitude               0\n",
       "longitude              0\n",
       "Bedrooms               0\n",
       "Bathrooms              0\n",
       "Balcony             2572\n",
       "Status               574\n",
       "neworold               0\n",
       "parking             5126\n",
       "Furnished_status    3614\n",
       "Lift                6005\n",
       "Landmarks           4979\n",
       "type_of_building       0\n",
       "desc                   0\n",
       "Price_sqft             0\n",
       "dtype: int64"
      ]
     },
     "execution_count": 7,
     "metadata": {},
     "output_type": "execute_result"
    }
   ],
   "source": [
    "housing.isnull().sum()"
   ]
  },
  {
   "cell_type": "code",
   "execution_count": 15,
   "id": "bda94028",
   "metadata": {},
   "outputs": [],
   "source": [
    "housing.drop(\"Unnamed: 0\",axis=1,inplace=True)"
   ]
  },
  {
   "cell_type": "code",
   "execution_count": 21,
   "id": "330d2920",
   "metadata": {},
   "outputs": [],
   "source": [
    "housing.drop([\"Address\",\"latitude\",\"longitude\"],axis=1,inplace=True)"
   ]
  },
  {
   "cell_type": "code",
   "execution_count": 22,
   "id": "f8aca8c8",
   "metadata": {},
   "outputs": [],
   "source": [
    "housing.drop([\"Status\",\"neworold\",\"Lift\",\"Landmarks\",\"desc\",\"Price_sqft\"],inplace=True,axis=1)"
   ]
  },
  {
   "cell_type": "code",
   "execution_count": 23,
   "id": "a8e531f5",
   "metadata": {},
   "outputs": [
    {
     "data": {
      "text/html": [
       "<div>\n",
       "<style scoped>\n",
       "    .dataframe tbody tr th:only-of-type {\n",
       "        vertical-align: middle;\n",
       "    }\n",
       "\n",
       "    .dataframe tbody tr th {\n",
       "        vertical-align: top;\n",
       "    }\n",
       "\n",
       "    .dataframe thead th {\n",
       "        text-align: right;\n",
       "    }\n",
       "</style>\n",
       "<table border=\"1\" class=\"dataframe\">\n",
       "  <thead>\n",
       "    <tr style=\"text-align: right;\">\n",
       "      <th></th>\n",
       "      <th>price</th>\n",
       "      <th>area</th>\n",
       "      <th>Bedrooms</th>\n",
       "      <th>Bathrooms</th>\n",
       "      <th>Balcony</th>\n",
       "      <th>parking</th>\n",
       "      <th>Furnished_status</th>\n",
       "      <th>type_of_building</th>\n",
       "    </tr>\n",
       "  </thead>\n",
       "  <tbody>\n",
       "    <tr>\n",
       "      <th>0</th>\n",
       "      <td>5600000.0</td>\n",
       "      <td>1350.0</td>\n",
       "      <td>3.0</td>\n",
       "      <td>3.0</td>\n",
       "      <td>NaN</td>\n",
       "      <td>NaN</td>\n",
       "      <td>NaN</td>\n",
       "      <td>Flat</td>\n",
       "    </tr>\n",
       "    <tr>\n",
       "      <th>1</th>\n",
       "      <td>8800000.0</td>\n",
       "      <td>1490.0</td>\n",
       "      <td>3.0</td>\n",
       "      <td>3.0</td>\n",
       "      <td>NaN</td>\n",
       "      <td>NaN</td>\n",
       "      <td>Semi-Furnished</td>\n",
       "      <td>Flat</td>\n",
       "    </tr>\n",
       "    <tr>\n",
       "      <th>2</th>\n",
       "      <td>16500000.0</td>\n",
       "      <td>2385.0</td>\n",
       "      <td>4.0</td>\n",
       "      <td>5.0</td>\n",
       "      <td>NaN</td>\n",
       "      <td>1.0</td>\n",
       "      <td>Unfurnished</td>\n",
       "      <td>Flat</td>\n",
       "    </tr>\n",
       "    <tr>\n",
       "      <th>3</th>\n",
       "      <td>3810000.0</td>\n",
       "      <td>1050.0</td>\n",
       "      <td>2.0</td>\n",
       "      <td>2.0</td>\n",
       "      <td>3.0</td>\n",
       "      <td>1.0</td>\n",
       "      <td>Unfurnished</td>\n",
       "      <td>Flat</td>\n",
       "    </tr>\n",
       "    <tr>\n",
       "      <th>4</th>\n",
       "      <td>6200000.0</td>\n",
       "      <td>1350.0</td>\n",
       "      <td>2.0</td>\n",
       "      <td>2.0</td>\n",
       "      <td>3.0</td>\n",
       "      <td>1.0</td>\n",
       "      <td>NaN</td>\n",
       "      <td>Flat</td>\n",
       "    </tr>\n",
       "  </tbody>\n",
       "</table>\n",
       "</div>"
      ],
      "text/plain": [
       "        price    area  Bedrooms  Bathrooms  Balcony  parking Furnished_status  \\\n",
       "0   5600000.0  1350.0       3.0        3.0      NaN      NaN              NaN   \n",
       "1   8800000.0  1490.0       3.0        3.0      NaN      NaN   Semi-Furnished   \n",
       "2  16500000.0  2385.0       4.0        5.0      NaN      1.0      Unfurnished   \n",
       "3   3810000.0  1050.0       2.0        2.0      3.0      1.0      Unfurnished   \n",
       "4   6200000.0  1350.0       2.0        2.0      3.0      1.0              NaN   \n",
       "\n",
       "  type_of_building  \n",
       "0             Flat  \n",
       "1             Flat  \n",
       "2             Flat  \n",
       "3             Flat  \n",
       "4             Flat  "
      ]
     },
     "execution_count": 23,
     "metadata": {},
     "output_type": "execute_result"
    }
   ],
   "source": [
    "housing.head()"
   ]
  },
  {
   "cell_type": "markdown",
   "id": "245f6e97",
   "metadata": {},
   "source": [
    "### Filling missing values"
   ]
  },
  {
   "cell_type": "code",
   "execution_count": 24,
   "id": "461f5901",
   "metadata": {},
   "outputs": [
    {
     "data": {
      "text/plain": [
       "price                  0\n",
       "area                   0\n",
       "Bedrooms               0\n",
       "Bathrooms              0\n",
       "Balcony             2572\n",
       "parking             5126\n",
       "Furnished_status    3614\n",
       "type_of_building       0\n",
       "dtype: int64"
      ]
     },
     "execution_count": 24,
     "metadata": {},
     "output_type": "execute_result"
    }
   ],
   "source": [
    "housing.isnull().sum()"
   ]
  },
  {
   "cell_type": "code",
   "execution_count": 25,
   "id": "9145f7b3",
   "metadata": {},
   "outputs": [
    {
     "data": {
      "text/plain": [
       "Balcony\n",
       "2.0     1793\n",
       "3.0     1516\n",
       "1.0     1082\n",
       "4.0      613\n",
       "5.0      130\n",
       "6.0       21\n",
       "7.0        4\n",
       "10.0       3\n",
       "8.0        3\n",
       "9.0        1\n",
       "Name: count, dtype: int64"
      ]
     },
     "execution_count": 25,
     "metadata": {},
     "output_type": "execute_result"
    }
   ],
   "source": [
    "housing[\"Balcony\"].value_counts()"
   ]
  },
  {
   "cell_type": "code",
   "execution_count": 26,
   "id": "51087331",
   "metadata": {},
   "outputs": [],
   "source": [
    "housing[\"Balcony\"].fillna(0,inplace=True)"
   ]
  },
  {
   "cell_type": "code",
   "execution_count": 27,
   "id": "3c4433a9",
   "metadata": {},
   "outputs": [
    {
     "data": {
      "text/html": [
       "<div>\n",
       "<style scoped>\n",
       "    .dataframe tbody tr th:only-of-type {\n",
       "        vertical-align: middle;\n",
       "    }\n",
       "\n",
       "    .dataframe tbody tr th {\n",
       "        vertical-align: top;\n",
       "    }\n",
       "\n",
       "    .dataframe thead th {\n",
       "        text-align: right;\n",
       "    }\n",
       "</style>\n",
       "<table border=\"1\" class=\"dataframe\">\n",
       "  <thead>\n",
       "    <tr style=\"text-align: right;\">\n",
       "      <th></th>\n",
       "      <th>Balcony</th>\n",
       "    </tr>\n",
       "  </thead>\n",
       "  <tbody>\n",
       "    <tr>\n",
       "      <th>0</th>\n",
       "      <td>0.0</td>\n",
       "    </tr>\n",
       "    <tr>\n",
       "      <th>1</th>\n",
       "      <td>0.0</td>\n",
       "    </tr>\n",
       "    <tr>\n",
       "      <th>2</th>\n",
       "      <td>0.0</td>\n",
       "    </tr>\n",
       "    <tr>\n",
       "      <th>3</th>\n",
       "      <td>3.0</td>\n",
       "    </tr>\n",
       "    <tr>\n",
       "      <th>4</th>\n",
       "      <td>3.0</td>\n",
       "    </tr>\n",
       "    <tr>\n",
       "      <th>...</th>\n",
       "      <td>...</td>\n",
       "    </tr>\n",
       "    <tr>\n",
       "      <th>7733</th>\n",
       "      <td>0.0</td>\n",
       "    </tr>\n",
       "    <tr>\n",
       "      <th>7734</th>\n",
       "      <td>3.0</td>\n",
       "    </tr>\n",
       "    <tr>\n",
       "      <th>7735</th>\n",
       "      <td>5.0</td>\n",
       "    </tr>\n",
       "    <tr>\n",
       "      <th>7736</th>\n",
       "      <td>2.0</td>\n",
       "    </tr>\n",
       "    <tr>\n",
       "      <th>7737</th>\n",
       "      <td>3.0</td>\n",
       "    </tr>\n",
       "  </tbody>\n",
       "</table>\n",
       "<p>7738 rows × 1 columns</p>\n",
       "</div>"
      ],
      "text/plain": [
       "      Balcony\n",
       "0         0.0\n",
       "1         0.0\n",
       "2         0.0\n",
       "3         3.0\n",
       "4         3.0\n",
       "...       ...\n",
       "7733      0.0\n",
       "7734      3.0\n",
       "7735      5.0\n",
       "7736      2.0\n",
       "7737      3.0\n",
       "\n",
       "[7738 rows x 1 columns]"
      ]
     },
     "execution_count": 27,
     "metadata": {},
     "output_type": "execute_result"
    }
   ],
   "source": [
    "housing[[\"Balcony\"]]"
   ]
  },
  {
   "cell_type": "code",
   "execution_count": 28,
   "id": "8d20892f",
   "metadata": {},
   "outputs": [
    {
     "data": {
      "text/plain": [
       "parking\n",
       "1.0      1715\n",
       "2.0       640\n",
       "3.0       110\n",
       "4.0        45\n",
       "6.0        14\n",
       "         ... \n",
       "18.0        1\n",
       "602.0       1\n",
       "16.0        1\n",
       "624.0       1\n",
       "179.0       1\n",
       "Name: count, Length: 65, dtype: int64"
      ]
     },
     "execution_count": 28,
     "metadata": {},
     "output_type": "execute_result"
    }
   ],
   "source": [
    "housing.parking.value_counts()"
   ]
  },
  {
   "cell_type": "code",
   "execution_count": 29,
   "id": "3beb36f0",
   "metadata": {},
   "outputs": [],
   "source": [
    "housing.parking.fillna(0,inplace=True)"
   ]
  },
  {
   "cell_type": "code",
   "execution_count": 30,
   "id": "c63d5377",
   "metadata": {},
   "outputs": [
    {
     "data": {
      "text/plain": [
       "price                  0\n",
       "area                   0\n",
       "Bedrooms               0\n",
       "Bathrooms              0\n",
       "Balcony                0\n",
       "parking                0\n",
       "Furnished_status    3614\n",
       "type_of_building       0\n",
       "dtype: int64"
      ]
     },
     "execution_count": 30,
     "metadata": {},
     "output_type": "execute_result"
    }
   ],
   "source": [
    "housing.isnull().sum()"
   ]
  },
  {
   "cell_type": "code",
   "execution_count": 32,
   "id": "2e48fe2e",
   "metadata": {},
   "outputs": [
    {
     "data": {
      "text/plain": [
       "Furnished_status\n",
       "Semi-Furnished    2199\n",
       "Unfurnished       1230\n",
       "Furnished          695\n",
       "Name: count, dtype: int64"
      ]
     },
     "execution_count": 32,
     "metadata": {},
     "output_type": "execute_result"
    }
   ],
   "source": [
    "housing.Furnished_status.value_counts()"
   ]
  },
  {
   "cell_type": "code",
   "execution_count": 33,
   "id": "6e44ab8b",
   "metadata": {},
   "outputs": [],
   "source": [
    "housing.Furnished_status.fillna(\"Unfurnished\",inplace=True)"
   ]
  },
  {
   "cell_type": "code",
   "execution_count": 34,
   "id": "ba6b2cd7",
   "metadata": {},
   "outputs": [
    {
     "data": {
      "text/plain": [
       "Furnished_status\n",
       "Unfurnished       4844\n",
       "Semi-Furnished    2199\n",
       "Furnished          695\n",
       "Name: count, dtype: int64"
      ]
     },
     "execution_count": 34,
     "metadata": {},
     "output_type": "execute_result"
    }
   ],
   "source": [
    "housing.Furnished_status.value_counts()"
   ]
  },
  {
   "cell_type": "code",
   "execution_count": 35,
   "id": "75ba3669",
   "metadata": {},
   "outputs": [
    {
     "data": {
      "text/html": [
       "<div>\n",
       "<style scoped>\n",
       "    .dataframe tbody tr th:only-of-type {\n",
       "        vertical-align: middle;\n",
       "    }\n",
       "\n",
       "    .dataframe tbody tr th {\n",
       "        vertical-align: top;\n",
       "    }\n",
       "\n",
       "    .dataframe thead th {\n",
       "        text-align: right;\n",
       "    }\n",
       "</style>\n",
       "<table border=\"1\" class=\"dataframe\">\n",
       "  <thead>\n",
       "    <tr style=\"text-align: right;\">\n",
       "      <th></th>\n",
       "      <th>Furnished_status</th>\n",
       "      <th>price</th>\n",
       "    </tr>\n",
       "  </thead>\n",
       "  <tbody>\n",
       "    <tr>\n",
       "      <th>0</th>\n",
       "      <td>Unfurnished</td>\n",
       "      <td>5600000.0</td>\n",
       "    </tr>\n",
       "    <tr>\n",
       "      <th>1</th>\n",
       "      <td>Semi-Furnished</td>\n",
       "      <td>8800000.0</td>\n",
       "    </tr>\n",
       "    <tr>\n",
       "      <th>2</th>\n",
       "      <td>Unfurnished</td>\n",
       "      <td>16500000.0</td>\n",
       "    </tr>\n",
       "    <tr>\n",
       "      <th>3</th>\n",
       "      <td>Unfurnished</td>\n",
       "      <td>3810000.0</td>\n",
       "    </tr>\n",
       "    <tr>\n",
       "      <th>4</th>\n",
       "      <td>Unfurnished</td>\n",
       "      <td>6200000.0</td>\n",
       "    </tr>\n",
       "    <tr>\n",
       "      <th>...</th>\n",
       "      <td>...</td>\n",
       "      <td>...</td>\n",
       "    </tr>\n",
       "    <tr>\n",
       "      <th>7733</th>\n",
       "      <td>Unfurnished</td>\n",
       "      <td>7900000.0</td>\n",
       "    </tr>\n",
       "    <tr>\n",
       "      <th>7734</th>\n",
       "      <td>Semi-Furnished</td>\n",
       "      <td>4510000.0</td>\n",
       "    </tr>\n",
       "    <tr>\n",
       "      <th>7735</th>\n",
       "      <td>Unfurnished</td>\n",
       "      <td>7000000.0</td>\n",
       "    </tr>\n",
       "    <tr>\n",
       "      <th>7736</th>\n",
       "      <td>Unfurnished</td>\n",
       "      <td>6500000.0</td>\n",
       "    </tr>\n",
       "    <tr>\n",
       "      <th>7737</th>\n",
       "      <td>Unfurnished</td>\n",
       "      <td>6500000.0</td>\n",
       "    </tr>\n",
       "  </tbody>\n",
       "</table>\n",
       "<p>7738 rows × 2 columns</p>\n",
       "</div>"
      ],
      "text/plain": [
       "     Furnished_status       price\n",
       "0         Unfurnished   5600000.0\n",
       "1      Semi-Furnished   8800000.0\n",
       "2         Unfurnished  16500000.0\n",
       "3         Unfurnished   3810000.0\n",
       "4         Unfurnished   6200000.0\n",
       "...               ...         ...\n",
       "7733      Unfurnished   7900000.0\n",
       "7734   Semi-Furnished   4510000.0\n",
       "7735      Unfurnished   7000000.0\n",
       "7736      Unfurnished   6500000.0\n",
       "7737      Unfurnished   6500000.0\n",
       "\n",
       "[7738 rows x 2 columns]"
      ]
     },
     "execution_count": 35,
     "metadata": {},
     "output_type": "execute_result"
    }
   ],
   "source": [
    "housing[[\"Furnished_status\",\"price\"]]"
   ]
  },
  {
   "cell_type": "code",
   "execution_count": 36,
   "id": "1a6a029e",
   "metadata": {},
   "outputs": [
    {
     "data": {
      "text/plain": [
       "(7738, 8)"
      ]
     },
     "execution_count": 36,
     "metadata": {},
     "output_type": "execute_result"
    }
   ],
   "source": [
    "housing.shape"
   ]
  },
  {
   "cell_type": "code",
   "execution_count": 37,
   "id": "8a167009",
   "metadata": {},
   "outputs": [
    {
     "data": {
      "text/plain": [
       "price               0\n",
       "area                0\n",
       "Bedrooms            0\n",
       "Bathrooms           0\n",
       "Balcony             0\n",
       "parking             0\n",
       "Furnished_status    0\n",
       "type_of_building    0\n",
       "dtype: int64"
      ]
     },
     "execution_count": 37,
     "metadata": {},
     "output_type": "execute_result"
    }
   ],
   "source": [
    "housing.isnull().sum()"
   ]
  },
  {
   "cell_type": "code",
   "execution_count": 38,
   "id": "f8e6fa3a",
   "metadata": {},
   "outputs": [
    {
     "data": {
      "text/html": [
       "<div>\n",
       "<style scoped>\n",
       "    .dataframe tbody tr th:only-of-type {\n",
       "        vertical-align: middle;\n",
       "    }\n",
       "\n",
       "    .dataframe tbody tr th {\n",
       "        vertical-align: top;\n",
       "    }\n",
       "\n",
       "    .dataframe thead th {\n",
       "        text-align: right;\n",
       "    }\n",
       "</style>\n",
       "<table border=\"1\" class=\"dataframe\">\n",
       "  <thead>\n",
       "    <tr style=\"text-align: right;\">\n",
       "      <th></th>\n",
       "      <th>price</th>\n",
       "      <th>area</th>\n",
       "      <th>Bedrooms</th>\n",
       "      <th>Bathrooms</th>\n",
       "      <th>Balcony</th>\n",
       "      <th>parking</th>\n",
       "      <th>Furnished_status</th>\n",
       "      <th>type_of_building</th>\n",
       "    </tr>\n",
       "  </thead>\n",
       "  <tbody>\n",
       "    <tr>\n",
       "      <th>0</th>\n",
       "      <td>5600000.0</td>\n",
       "      <td>1350.0</td>\n",
       "      <td>3.0</td>\n",
       "      <td>3.0</td>\n",
       "      <td>0.0</td>\n",
       "      <td>0.0</td>\n",
       "      <td>Unfurnished</td>\n",
       "      <td>Flat</td>\n",
       "    </tr>\n",
       "    <tr>\n",
       "      <th>1</th>\n",
       "      <td>8800000.0</td>\n",
       "      <td>1490.0</td>\n",
       "      <td>3.0</td>\n",
       "      <td>3.0</td>\n",
       "      <td>0.0</td>\n",
       "      <td>0.0</td>\n",
       "      <td>Semi-Furnished</td>\n",
       "      <td>Flat</td>\n",
       "    </tr>\n",
       "    <tr>\n",
       "      <th>2</th>\n",
       "      <td>16500000.0</td>\n",
       "      <td>2385.0</td>\n",
       "      <td>4.0</td>\n",
       "      <td>5.0</td>\n",
       "      <td>0.0</td>\n",
       "      <td>1.0</td>\n",
       "      <td>Unfurnished</td>\n",
       "      <td>Flat</td>\n",
       "    </tr>\n",
       "    <tr>\n",
       "      <th>3</th>\n",
       "      <td>3810000.0</td>\n",
       "      <td>1050.0</td>\n",
       "      <td>2.0</td>\n",
       "      <td>2.0</td>\n",
       "      <td>3.0</td>\n",
       "      <td>1.0</td>\n",
       "      <td>Unfurnished</td>\n",
       "      <td>Flat</td>\n",
       "    </tr>\n",
       "    <tr>\n",
       "      <th>4</th>\n",
       "      <td>6200000.0</td>\n",
       "      <td>1350.0</td>\n",
       "      <td>2.0</td>\n",
       "      <td>2.0</td>\n",
       "      <td>3.0</td>\n",
       "      <td>1.0</td>\n",
       "      <td>Unfurnished</td>\n",
       "      <td>Flat</td>\n",
       "    </tr>\n",
       "  </tbody>\n",
       "</table>\n",
       "</div>"
      ],
      "text/plain": [
       "        price    area  Bedrooms  Bathrooms  Balcony  parking Furnished_status  \\\n",
       "0   5600000.0  1350.0       3.0        3.0      0.0      0.0      Unfurnished   \n",
       "1   8800000.0  1490.0       3.0        3.0      0.0      0.0   Semi-Furnished   \n",
       "2  16500000.0  2385.0       4.0        5.0      0.0      1.0      Unfurnished   \n",
       "3   3810000.0  1050.0       2.0        2.0      3.0      1.0      Unfurnished   \n",
       "4   6200000.0  1350.0       2.0        2.0      3.0      1.0      Unfurnished   \n",
       "\n",
       "  type_of_building  \n",
       "0             Flat  \n",
       "1             Flat  \n",
       "2             Flat  \n",
       "3             Flat  \n",
       "4             Flat  "
      ]
     },
     "execution_count": 38,
     "metadata": {},
     "output_type": "execute_result"
    }
   ],
   "source": [
    "housing.head()"
   ]
  },
  {
   "cell_type": "code",
   "execution_count": 39,
   "id": "4af5d4fe",
   "metadata": {},
   "outputs": [
    {
     "data": {
      "text/plain": [
       "type_of_building\n",
       "Flat                6226\n",
       "Individual House    1512\n",
       "Name: count, dtype: int64"
      ]
     },
     "execution_count": 39,
     "metadata": {},
     "output_type": "execute_result"
    }
   ],
   "source": [
    "housing.type_of_building.value_counts()"
   ]
  },
  {
   "cell_type": "markdown",
   "id": "8321b8cb",
   "metadata": {},
   "source": [
    "## Encoding Categorical Values"
   ]
  },
  {
   "cell_type": "markdown",
   "id": "2af941d2",
   "metadata": {},
   "source": [
    "### Label Encoding"
   ]
  },
  {
   "cell_type": "code",
   "execution_count": 44,
   "id": "24604863",
   "metadata": {},
   "outputs": [],
   "source": [
    "from sklearn.preprocessing import LabelEncoder"
   ]
  },
  {
   "cell_type": "code",
   "execution_count": 45,
   "id": "32c153f2",
   "metadata": {},
   "outputs": [],
   "source": [
    "label=LabelEncoder()"
   ]
  },
  {
   "cell_type": "code",
   "execution_count": 46,
   "id": "3cbe0041",
   "metadata": {},
   "outputs": [],
   "source": [
    "housing[\"type_of_building\"]=label.fit_transform(housing[\"type_of_building\"])"
   ]
  },
  {
   "cell_type": "code",
   "execution_count": 47,
   "id": "cdd696d8",
   "metadata": {},
   "outputs": [
    {
     "data": {
      "text/html": [
       "<div>\n",
       "<style scoped>\n",
       "    .dataframe tbody tr th:only-of-type {\n",
       "        vertical-align: middle;\n",
       "    }\n",
       "\n",
       "    .dataframe tbody tr th {\n",
       "        vertical-align: top;\n",
       "    }\n",
       "\n",
       "    .dataframe thead th {\n",
       "        text-align: right;\n",
       "    }\n",
       "</style>\n",
       "<table border=\"1\" class=\"dataframe\">\n",
       "  <thead>\n",
       "    <tr style=\"text-align: right;\">\n",
       "      <th></th>\n",
       "      <th>price</th>\n",
       "      <th>area</th>\n",
       "      <th>Bedrooms</th>\n",
       "      <th>Bathrooms</th>\n",
       "      <th>Balcony</th>\n",
       "      <th>parking</th>\n",
       "      <th>Furnished_status</th>\n",
       "      <th>type_of_building</th>\n",
       "    </tr>\n",
       "  </thead>\n",
       "  <tbody>\n",
       "    <tr>\n",
       "      <th>0</th>\n",
       "      <td>5600000.0</td>\n",
       "      <td>1350.0</td>\n",
       "      <td>3.0</td>\n",
       "      <td>3.0</td>\n",
       "      <td>0.0</td>\n",
       "      <td>0.0</td>\n",
       "      <td>Unfurnished</td>\n",
       "      <td>0</td>\n",
       "    </tr>\n",
       "    <tr>\n",
       "      <th>1</th>\n",
       "      <td>8800000.0</td>\n",
       "      <td>1490.0</td>\n",
       "      <td>3.0</td>\n",
       "      <td>3.0</td>\n",
       "      <td>0.0</td>\n",
       "      <td>0.0</td>\n",
       "      <td>Semi-Furnished</td>\n",
       "      <td>0</td>\n",
       "    </tr>\n",
       "    <tr>\n",
       "      <th>2</th>\n",
       "      <td>16500000.0</td>\n",
       "      <td>2385.0</td>\n",
       "      <td>4.0</td>\n",
       "      <td>5.0</td>\n",
       "      <td>0.0</td>\n",
       "      <td>1.0</td>\n",
       "      <td>Unfurnished</td>\n",
       "      <td>0</td>\n",
       "    </tr>\n",
       "    <tr>\n",
       "      <th>3</th>\n",
       "      <td>3810000.0</td>\n",
       "      <td>1050.0</td>\n",
       "      <td>2.0</td>\n",
       "      <td>2.0</td>\n",
       "      <td>3.0</td>\n",
       "      <td>1.0</td>\n",
       "      <td>Unfurnished</td>\n",
       "      <td>0</td>\n",
       "    </tr>\n",
       "    <tr>\n",
       "      <th>4</th>\n",
       "      <td>6200000.0</td>\n",
       "      <td>1350.0</td>\n",
       "      <td>2.0</td>\n",
       "      <td>2.0</td>\n",
       "      <td>3.0</td>\n",
       "      <td>1.0</td>\n",
       "      <td>Unfurnished</td>\n",
       "      <td>0</td>\n",
       "    </tr>\n",
       "  </tbody>\n",
       "</table>\n",
       "</div>"
      ],
      "text/plain": [
       "        price    area  Bedrooms  Bathrooms  Balcony  parking Furnished_status  \\\n",
       "0   5600000.0  1350.0       3.0        3.0      0.0      0.0      Unfurnished   \n",
       "1   8800000.0  1490.0       3.0        3.0      0.0      0.0   Semi-Furnished   \n",
       "2  16500000.0  2385.0       4.0        5.0      0.0      1.0      Unfurnished   \n",
       "3   3810000.0  1050.0       2.0        2.0      3.0      1.0      Unfurnished   \n",
       "4   6200000.0  1350.0       2.0        2.0      3.0      1.0      Unfurnished   \n",
       "\n",
       "   type_of_building  \n",
       "0                 0  \n",
       "1                 0  \n",
       "2                 0  \n",
       "3                 0  \n",
       "4                 0  "
      ]
     },
     "execution_count": 47,
     "metadata": {},
     "output_type": "execute_result"
    }
   ],
   "source": [
    "housing.head()"
   ]
  },
  {
   "cell_type": "code",
   "execution_count": 48,
   "id": "705de98f",
   "metadata": {},
   "outputs": [
    {
     "data": {
      "text/plain": [
       "type_of_building\n",
       "0    6226\n",
       "1    1512\n",
       "Name: count, dtype: int64"
      ]
     },
     "execution_count": 48,
     "metadata": {},
     "output_type": "execute_result"
    }
   ],
   "source": [
    "housing.type_of_building.value_counts()"
   ]
  },
  {
   "cell_type": "code",
   "execution_count": 49,
   "id": "e5b79d29",
   "metadata": {},
   "outputs": [],
   "source": [
    "housing[\"Furnished_status\"]=label.fit_transform(housing[\"Furnished_status\"])"
   ]
  },
  {
   "cell_type": "code",
   "execution_count": 50,
   "id": "c3b6cbf9",
   "metadata": {},
   "outputs": [
    {
     "data": {
      "text/plain": [
       "Furnished_status\n",
       "2    4844\n",
       "1    2199\n",
       "0     695\n",
       "Name: count, dtype: int64"
      ]
     },
     "execution_count": 50,
     "metadata": {},
     "output_type": "execute_result"
    }
   ],
   "source": [
    "housing.Furnished_status.value_counts()"
   ]
  },
  {
   "cell_type": "code",
   "execution_count": 51,
   "id": "b6b5c754",
   "metadata": {},
   "outputs": [
    {
     "data": {
      "text/html": [
       "<div>\n",
       "<style scoped>\n",
       "    .dataframe tbody tr th:only-of-type {\n",
       "        vertical-align: middle;\n",
       "    }\n",
       "\n",
       "    .dataframe tbody tr th {\n",
       "        vertical-align: top;\n",
       "    }\n",
       "\n",
       "    .dataframe thead th {\n",
       "        text-align: right;\n",
       "    }\n",
       "</style>\n",
       "<table border=\"1\" class=\"dataframe\">\n",
       "  <thead>\n",
       "    <tr style=\"text-align: right;\">\n",
       "      <th></th>\n",
       "      <th>price</th>\n",
       "      <th>area</th>\n",
       "      <th>Bedrooms</th>\n",
       "      <th>Bathrooms</th>\n",
       "      <th>Balcony</th>\n",
       "      <th>parking</th>\n",
       "      <th>Furnished_status</th>\n",
       "      <th>type_of_building</th>\n",
       "    </tr>\n",
       "  </thead>\n",
       "  <tbody>\n",
       "    <tr>\n",
       "      <th>0</th>\n",
       "      <td>5600000.0</td>\n",
       "      <td>1350.0</td>\n",
       "      <td>3.0</td>\n",
       "      <td>3.0</td>\n",
       "      <td>0.0</td>\n",
       "      <td>0.0</td>\n",
       "      <td>2</td>\n",
       "      <td>0</td>\n",
       "    </tr>\n",
       "    <tr>\n",
       "      <th>1</th>\n",
       "      <td>8800000.0</td>\n",
       "      <td>1490.0</td>\n",
       "      <td>3.0</td>\n",
       "      <td>3.0</td>\n",
       "      <td>0.0</td>\n",
       "      <td>0.0</td>\n",
       "      <td>1</td>\n",
       "      <td>0</td>\n",
       "    </tr>\n",
       "    <tr>\n",
       "      <th>2</th>\n",
       "      <td>16500000.0</td>\n",
       "      <td>2385.0</td>\n",
       "      <td>4.0</td>\n",
       "      <td>5.0</td>\n",
       "      <td>0.0</td>\n",
       "      <td>1.0</td>\n",
       "      <td>2</td>\n",
       "      <td>0</td>\n",
       "    </tr>\n",
       "    <tr>\n",
       "      <th>3</th>\n",
       "      <td>3810000.0</td>\n",
       "      <td>1050.0</td>\n",
       "      <td>2.0</td>\n",
       "      <td>2.0</td>\n",
       "      <td>3.0</td>\n",
       "      <td>1.0</td>\n",
       "      <td>2</td>\n",
       "      <td>0</td>\n",
       "    </tr>\n",
       "    <tr>\n",
       "      <th>4</th>\n",
       "      <td>6200000.0</td>\n",
       "      <td>1350.0</td>\n",
       "      <td>2.0</td>\n",
       "      <td>2.0</td>\n",
       "      <td>3.0</td>\n",
       "      <td>1.0</td>\n",
       "      <td>2</td>\n",
       "      <td>0</td>\n",
       "    </tr>\n",
       "  </tbody>\n",
       "</table>\n",
       "</div>"
      ],
      "text/plain": [
       "        price    area  Bedrooms  Bathrooms  Balcony  parking  \\\n",
       "0   5600000.0  1350.0       3.0        3.0      0.0      0.0   \n",
       "1   8800000.0  1490.0       3.0        3.0      0.0      0.0   \n",
       "2  16500000.0  2385.0       4.0        5.0      0.0      1.0   \n",
       "3   3810000.0  1050.0       2.0        2.0      3.0      1.0   \n",
       "4   6200000.0  1350.0       2.0        2.0      3.0      1.0   \n",
       "\n",
       "   Furnished_status  type_of_building  \n",
       "0                 2                 0  \n",
       "1                 1                 0  \n",
       "2                 2                 0  \n",
       "3                 2                 0  \n",
       "4                 2                 0  "
      ]
     },
     "execution_count": 51,
     "metadata": {},
     "output_type": "execute_result"
    }
   ],
   "source": [
    "housing.head()"
   ]
  },
  {
   "cell_type": "markdown",
   "id": "cbd9fe08",
   "metadata": {},
   "source": [
    "## Splitting the dataset into train test split"
   ]
  },
  {
   "cell_type": "code",
   "execution_count": 52,
   "id": "d52fbd42",
   "metadata": {},
   "outputs": [],
   "source": [
    "from sklearn.model_selection import train_test_split"
   ]
  },
  {
   "cell_type": "code",
   "execution_count": 54,
   "id": "615813e7",
   "metadata": {},
   "outputs": [],
   "source": [
    "X=housing.drop(\"price\",axis=1)"
   ]
  },
  {
   "cell_type": "code",
   "execution_count": 55,
   "id": "7896f96c",
   "metadata": {},
   "outputs": [],
   "source": [
    "Y=housing[\"price\"]"
   ]
  },
  {
   "cell_type": "code",
   "execution_count": 57,
   "id": "6e618d3c",
   "metadata": {},
   "outputs": [],
   "source": [
    "X_train,X_test,Y_train,Y_test=train_test_split(X,Y,test_size=0.2,random_state=2)"
   ]
  },
  {
   "cell_type": "code",
   "execution_count": 58,
   "id": "6835da42",
   "metadata": {},
   "outputs": [
    {
     "name": "stdout",
     "output_type": "stream",
     "text": [
      "(6190, 7) (6190,) (1548, 7) (1548,)\n"
     ]
    }
   ],
   "source": [
    "print(X_train.shape,Y_train.shape,X_test.shape,Y_test.shape)"
   ]
  },
  {
   "cell_type": "markdown",
   "id": "4f207075",
   "metadata": {},
   "source": [
    "## Implementing Linear Regression"
   ]
  },
  {
   "cell_type": "code",
   "execution_count": 59,
   "id": "0936cc5c",
   "metadata": {},
   "outputs": [],
   "source": [
    "from sklearn.linear_model import LinearRegression"
   ]
  },
  {
   "cell_type": "code",
   "execution_count": 60,
   "id": "a9c664ea",
   "metadata": {},
   "outputs": [],
   "source": [
    "linear=LinearRegression()"
   ]
  },
  {
   "cell_type": "code",
   "execution_count": 61,
   "id": "c06182a3",
   "metadata": {},
   "outputs": [
    {
     "data": {
      "text/html": [
       "<style>#sk-container-id-1 {color: black;}#sk-container-id-1 pre{padding: 0;}#sk-container-id-1 div.sk-toggleable {background-color: white;}#sk-container-id-1 label.sk-toggleable__label {cursor: pointer;display: block;width: 100%;margin-bottom: 0;padding: 0.3em;box-sizing: border-box;text-align: center;}#sk-container-id-1 label.sk-toggleable__label-arrow:before {content: \"▸\";float: left;margin-right: 0.25em;color: #696969;}#sk-container-id-1 label.sk-toggleable__label-arrow:hover:before {color: black;}#sk-container-id-1 div.sk-estimator:hover label.sk-toggleable__label-arrow:before {color: black;}#sk-container-id-1 div.sk-toggleable__content {max-height: 0;max-width: 0;overflow: hidden;text-align: left;background-color: #f0f8ff;}#sk-container-id-1 div.sk-toggleable__content pre {margin: 0.2em;color: black;border-radius: 0.25em;background-color: #f0f8ff;}#sk-container-id-1 input.sk-toggleable__control:checked~div.sk-toggleable__content {max-height: 200px;max-width: 100%;overflow: auto;}#sk-container-id-1 input.sk-toggleable__control:checked~label.sk-toggleable__label-arrow:before {content: \"▾\";}#sk-container-id-1 div.sk-estimator input.sk-toggleable__control:checked~label.sk-toggleable__label {background-color: #d4ebff;}#sk-container-id-1 div.sk-label input.sk-toggleable__control:checked~label.sk-toggleable__label {background-color: #d4ebff;}#sk-container-id-1 input.sk-hidden--visually {border: 0;clip: rect(1px 1px 1px 1px);clip: rect(1px, 1px, 1px, 1px);height: 1px;margin: -1px;overflow: hidden;padding: 0;position: absolute;width: 1px;}#sk-container-id-1 div.sk-estimator {font-family: monospace;background-color: #f0f8ff;border: 1px dotted black;border-radius: 0.25em;box-sizing: border-box;margin-bottom: 0.5em;}#sk-container-id-1 div.sk-estimator:hover {background-color: #d4ebff;}#sk-container-id-1 div.sk-parallel-item::after {content: \"\";width: 100%;border-bottom: 1px solid gray;flex-grow: 1;}#sk-container-id-1 div.sk-label:hover label.sk-toggleable__label {background-color: #d4ebff;}#sk-container-id-1 div.sk-serial::before {content: \"\";position: absolute;border-left: 1px solid gray;box-sizing: border-box;top: 0;bottom: 0;left: 50%;z-index: 0;}#sk-container-id-1 div.sk-serial {display: flex;flex-direction: column;align-items: center;background-color: white;padding-right: 0.2em;padding-left: 0.2em;position: relative;}#sk-container-id-1 div.sk-item {position: relative;z-index: 1;}#sk-container-id-1 div.sk-parallel {display: flex;align-items: stretch;justify-content: center;background-color: white;position: relative;}#sk-container-id-1 div.sk-item::before, #sk-container-id-1 div.sk-parallel-item::before {content: \"\";position: absolute;border-left: 1px solid gray;box-sizing: border-box;top: 0;bottom: 0;left: 50%;z-index: -1;}#sk-container-id-1 div.sk-parallel-item {display: flex;flex-direction: column;z-index: 1;position: relative;background-color: white;}#sk-container-id-1 div.sk-parallel-item:first-child::after {align-self: flex-end;width: 50%;}#sk-container-id-1 div.sk-parallel-item:last-child::after {align-self: flex-start;width: 50%;}#sk-container-id-1 div.sk-parallel-item:only-child::after {width: 0;}#sk-container-id-1 div.sk-dashed-wrapped {border: 1px dashed gray;margin: 0 0.4em 0.5em 0.4em;box-sizing: border-box;padding-bottom: 0.4em;background-color: white;}#sk-container-id-1 div.sk-label label {font-family: monospace;font-weight: bold;display: inline-block;line-height: 1.2em;}#sk-container-id-1 div.sk-label-container {text-align: center;}#sk-container-id-1 div.sk-container {/* jupyter's `normalize.less` sets `[hidden] { display: none; }` but bootstrap.min.css set `[hidden] { display: none !important; }` so we also need the `!important` here to be able to override the default hidden behavior on the sphinx rendered scikit-learn.org. See: https://github.com/scikit-learn/scikit-learn/issues/21755 */display: inline-block !important;position: relative;}#sk-container-id-1 div.sk-text-repr-fallback {display: none;}</style><div id=\"sk-container-id-1\" class=\"sk-top-container\"><div class=\"sk-text-repr-fallback\"><pre>LinearRegression()</pre><b>In a Jupyter environment, please rerun this cell to show the HTML representation or trust the notebook. <br />On GitHub, the HTML representation is unable to render, please try loading this page with nbviewer.org.</b></div><div class=\"sk-container\" hidden><div class=\"sk-item\"><div class=\"sk-estimator sk-toggleable\"><input class=\"sk-toggleable__control sk-hidden--visually\" id=\"sk-estimator-id-1\" type=\"checkbox\" checked><label for=\"sk-estimator-id-1\" class=\"sk-toggleable__label sk-toggleable__label-arrow\">LinearRegression</label><div class=\"sk-toggleable__content\"><pre>LinearRegression()</pre></div></div></div></div></div>"
      ],
      "text/plain": [
       "LinearRegression()"
      ]
     },
     "execution_count": 61,
     "metadata": {},
     "output_type": "execute_result"
    }
   ],
   "source": [
    "linear.fit(X_train,Y_train)"
   ]
  },
  {
   "cell_type": "code",
   "execution_count": 62,
   "id": "2785a1be",
   "metadata": {},
   "outputs": [],
   "source": [
    "linear_test=linear.predict(X_test)"
   ]
  },
  {
   "cell_type": "code",
   "execution_count": 64,
   "id": "454bd96e",
   "metadata": {},
   "outputs": [
    {
     "data": {
      "text/plain": [
       "(1548,)"
      ]
     },
     "execution_count": 64,
     "metadata": {},
     "output_type": "execute_result"
    }
   ],
   "source": [
    "linear_test.shape"
   ]
  },
  {
   "cell_type": "markdown",
   "id": "cfd306ce",
   "metadata": {},
   "source": [
    "## Evaluation metrics"
   ]
  },
  {
   "cell_type": "code",
   "execution_count": 63,
   "id": "12aee164",
   "metadata": {},
   "outputs": [],
   "source": [
    "from sklearn import metrics"
   ]
  },
  {
   "cell_type": "code",
   "execution_count": 66,
   "id": "8b55d984",
   "metadata": {},
   "outputs": [
    {
     "data": {
      "text/plain": [
       "407.56361000743885"
      ]
     },
     "execution_count": 66,
     "metadata": {},
     "output_type": "execute_result"
    }
   ],
   "source": [
    "mse=metrics.mean_squared_error(Y_test,linear_test)\n",
    "mse**0.2"
   ]
  },
  {
   "cell_type": "code",
   "execution_count": 70,
   "id": "607f2000",
   "metadata": {},
   "outputs": [
    {
     "data": {
      "text/plain": [
       "[4, 5, 6, 7, 1, 2, 3]"
      ]
     },
     "execution_count": 70,
     "metadata": {},
     "output_type": "execute_result"
    }
   ],
   "source": [
    "def rotate(arr,k):\n",
    "    for i in range(k):\n",
    "        x=arr.pop(0)\n",
    "        arr.append(x)\n",
    "    return arr\n",
    "    \n",
    "    \n",
    "    \n",
    "nums = [1,2,3,4,5,6,7]\n",
    "k = 3\n",
    "# nums = [-1,-100,3,99]\n",
    "# k = 2\n",
    "rotate(nums,k)"
   ]
  },
  {
   "cell_type": "code",
   "execution_count": null,
   "id": "6c150960",
   "metadata": {},
   "outputs": [],
   "source": []
  }
 ],
 "metadata": {
  "kernelspec": {
   "display_name": "Python 3 (ipykernel)",
   "language": "python",
   "name": "python3"
  },
  "language_info": {
   "codemirror_mode": {
    "name": "ipython",
    "version": 3
   },
   "file_extension": ".py",
   "mimetype": "text/x-python",
   "name": "python",
   "nbconvert_exporter": "python",
   "pygments_lexer": "ipython3",
   "version": "3.11.3"
  }
 },
 "nbformat": 4,
 "nbformat_minor": 5
}
